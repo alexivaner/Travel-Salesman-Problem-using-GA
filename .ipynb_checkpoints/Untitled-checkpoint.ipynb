{
 "cells": [
  {
   "cell_type": "code",
   "execution_count": 1,
   "metadata": {},
   "outputs": [],
   "source": [
    "import numpy as np\n",
    "positions=np.random.rand(10,2)"
   ]
  },
  {
   "cell_type": "code",
   "execution_count": 2,
   "metadata": {},
   "outputs": [
    {
     "data": {
      "text/plain": [
       "array([[0.77498386, 0.38074072],\n",
       "       [0.82875043, 0.67145116],\n",
       "       [0.52168912, 0.46109339],\n",
       "       [0.44263384, 0.50384297],\n",
       "       [0.04590662, 0.34725316],\n",
       "       [0.88138833, 0.79202287],\n",
       "       [0.12061769, 0.1260178 ],\n",
       "       [0.27970266, 0.16460857],\n",
       "       [0.88487197, 0.32086227],\n",
       "       [0.9348994 , 0.03462302]])"
      ]
     },
     "execution_count": 2,
     "metadata": {},
     "output_type": "execute_result"
    }
   ],
   "source": [
    "positions"
   ]
  },
  {
   "cell_type": "code",
   "execution_count": 3,
   "metadata": {},
   "outputs": [],
   "source": [
    "x_sol=[[  0.00000000e+00,   1.00000000e+00,  -3.01195977e-11,   2.00760084e-11,\n",
    "    2.41495095e-11],\n",
    " [ -2.32741108e-11,   1.00000000e+00 ,  1.00000000e+00 ,  5.31351363e-12,\n",
    "   -6.12644932e-12],\n",
    " [  1.18655962e-11 ,  6.52816609e-12  , 0.00000000e+00  , 1.00000000e+00,\n",
    "    1.42473796e-11],\n",
    " [ -4.19937042e-12 ,  3.40039727e-11   ,2.47921345e-12 ,  0.00000000e+00,\n",
    "    1.00000000e+00],\n",
    " [  1.00000000e+00 , -2.65096995e-11  , 3.55630808e-12 ,  7.24755899e-12,\n",
    "    1.00000000e+00]]"
   ]
  },
  {
   "cell_type": "code",
   "execution_count": 4,
   "metadata": {},
   "outputs": [
    {
     "data": {
      "image/png": "[encoded data removed]",
      "text/plain": [
       "<Figure size 432x288 with 2 Axes>"
      ]
     },
     "metadata": {
      "needs_background": "light"
     },
     "output_type": "display_data"
    }
   ],
   "source": [
    "import matplotlib.pyplot as plt\n",
    "\n",
    "fig, ax = plt.subplots(2, sharex=True, sharey=True)         # Prepare 2 plots\n",
    "ax[0].set_title('Raw nodes')\n",
    "ax[1].set_title('Optimized tour')\n",
    "ax[0].scatter(positions[:, 0], positions[:, 1])             # plot A\n",
    "ax[1].scatter(positions[:, 0], positions[:, 1])             # plot B\n",
    "start_node = 0\n",
    "distance = 0.\n",
    "for i in range(10):\n",
    "    start_pos = positions[start_node]\n",
    "    next_node = np.argmax(x_sol[start_node]) # needed because of MIP-approach used for TSP\n",
    "    end_pos = positions[next_node]\n",
    "    ax[1].annotate(\"\",\n",
    "            xy=start_pos, xycoords='data',\n",
    "            xytext=end_pos, textcoords='data',\n",
    "            arrowprops=dict(arrowstyle=\"->\",\n",
    "                            connectionstyle=\"arc3\"))\n",
    "    distance += np.linalg.norm(end_pos - start_pos)\n",
    "    start_node = next_node\n",
    "\n",
    "textstr = \"N nodes: %d\\nTotal length: %.3f\" % (5, distance)\n",
    "props = dict(boxstyle='round', facecolor='wheat', alpha=0.5)\n",
    "ax[1].text(0.05, 0.95, textstr, transform=ax[1].transAxes, fontsize=14, # Textbox\n",
    "        verticalalignment='top', bbox=props)\n",
    "\n",
    "plt.tight_layout()\n",
    "plt.show()"
   ]
  },
  {
   "cell_type": "code",
   "execution_count": null,
   "metadata": {},
   "outputs": [],
   "source": []
  }
 ],
 "metadata": {
  "kernelspec": {
   "display_name": "Python 3",
   "language": "python",
   "name": "python3"
  },
  "language_info": {
   "codemirror_mode": {
    "name": "ipython",
    "version": 3
   },
   "file_extension": ".py",
   "mimetype": "text/x-python",
   "name": "python",
   "nbconvert_exporter": "python",
   "pygments_lexer": "ipython3",
   "version": "3.6.10"
  }
 },
 "nbformat": 4,
 "nbformat_minor": 4
}
