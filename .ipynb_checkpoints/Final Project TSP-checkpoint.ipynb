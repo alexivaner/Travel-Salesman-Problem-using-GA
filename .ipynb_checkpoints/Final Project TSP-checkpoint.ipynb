{
 "cells": [
  {
   "cell_type": "markdown",
   "metadata": {},
   "source": [
    "# Final Project TSP"
   ]
  },
  {
   "cell_type": "code",
   "execution_count": 1,
   "metadata": {},
   "outputs": [],
   "source": [
    "import re\n",
    "\n",
    "fin = open(\"weight42.out\", \"rt\")\n",
    "fout = open(\"weight42rev.out\", \"wt\")\n",
    "\n",
    "for line in fin:\n",
    "\tfout.write(re.sub(' +',' ',line))\n",
    "\t\n",
    "fin.close()\n",
    "fout.close()"
   ]
  },
  {
   "cell_type": "code",
   "execution_count": 2,
   "metadata": {},
   "outputs": [],
   "source": [
    "import optparse\n",
    "import sys\n",
    "import yaml\n",
    "import math\n",
    "from random import Random\n",
    "import re\n",
    "import numpy as np\n",
    "import matplotlib.pyplot as plt\n",
    "\n",
    "class EV3_Config:\n",
    "    \"\"\"\n",
    "    EV3 configuration class\n",
    "    \"\"\"\n",
    "    # class variables\n",
    "    sectionName='EV3'\n",
    "    options={'populationSize': (int,True),\n",
    "             'generationCount': (int,True),\n",
    "             'randomSeed': (int,True),\n",
    "             'crossoverFraction': (float,True),\n",
    "             'minLimit': (float,True),\n",
    "             'maxLimit': (float,True),\n",
    "             'startCity':(int,True),\n",
    "             'learningRate':(float,True),\n",
    "            'cityCoordinat':(str,True),\n",
    "            'weightData':(str,True)\n",
    "            }\n",
    "     \n",
    "    #constructor\n",
    "    def __init__(self, inFileName):\n",
    "        #read YAML config and get EV3 section\n",
    "        infile=open(inFileName,'r')\n",
    "        ymlcfg=yaml.safe_load(infile)\n",
    "        infile.close()\n",
    "        eccfg=ymlcfg.get(self.sectionName,None)\n",
    "        if eccfg is None: raise Exception('Missing {} section in cfg file'.format(self.sectionName))\n",
    "         \n",
    "        #iterate over options\n",
    "        for opt in self.options:\n",
    "            if opt in eccfg:\n",
    "                optval=eccfg[opt]\n",
    " \n",
    "                #verify parameter type\n",
    "                if type(optval) != self.options[opt][0]:\n",
    "                    raise Exception('Parameter \"{}\" has wrong type'.format(opt))\n",
    "                \n",
    "                #Open the noisy_data.out directly\n",
    "                if (opt==\"cityCoordinat\"):\n",
    "                    with open(optval, 'r') as f:\n",
    "                        x = f.read().splitlines()\n",
    "                        optval=[re.split(r' +', i) for i in x]\n",
    "                        optval=[[float(b) for b in a] for a in optval]\n",
    "                        \n",
    "                if (opt==\"weightData\"):\n",
    "                    with open(optval, 'r') as f:\n",
    "                        x = f.read().splitlines()\n",
    "                        optval=[re.split(r'\\s+',i) for i in x]\n",
    "                        optval=[[float(b) for b in a] for a in optval]\n",
    "\n",
    "                #create attributes on the fly\n",
    "                setattr(self,opt,optval)\n",
    "            else:\n",
    "                if self.options[opt][1]:\n",
    "                    raise Exception('Missing mandatory parameter \"{}\"'.format(opt))\n",
    "                else:\n",
    "                    setattr(self,opt,None)\n",
    "     \n",
    "    #string representation for class data    \n",
    "    def __str__(self):\n",
    "        return str(yaml.dump(self.__dict__,default_flow_style=False))\n",
    "    \n",
    "    \n",
    "def plot_result(new_list):\n",
    "    plt.plot(*zip(*new_list), 'o')\n",
    "    \n",
    "def fitnessFunc(x):\n",
    "    #return -10.0-(0.04*x)**2+10.0*math.cos(0.04*math.pi*x)\n",
    "    return x.interactionCity()\n",
    "\n",
    "def printStats(pop,gen):\n",
    "    print('Generation:',gen)\n",
    "    avgval=0\n",
    "    minval=pop[0].fit \n",
    "    sigma=pop[0].sigma\n",
    "    for ind in pop:\n",
    "        avgval+=ind.fit\n",
    "        if ind.fit < minval:\n",
    "            minval=ind.fit\n",
    "            sigma=ind.sigma\n",
    "        print(ind)\n",
    "\n",
    "    print('Min fitness',minval)\n",
    "    print('Sigma',sigma)\n",
    "    print('Avg fitness',avgval/len(pop))\n",
    "    print('')\n",
    "\n",
    "       \n",
    "         "
   ]
  },
  {
   "cell_type": "code",
   "execution_count": 3,
   "metadata": {},
   "outputs": [],
   "source": [
    "cfg=EV3_Config('ev3a_example.cfg')\n"
   ]
  },
  {
   "cell_type": "code",
   "execution_count": 4,
   "metadata": {},
   "outputs": [
    {
     "data": {
      "image/png": "[encoded data removed]",
      "text/plain": [
       "<Figure size 432x288 with 1 Axes>"
      ]
     },
     "metadata": {
      "needs_background": "light"
     },
     "output_type": "display_data"
    }
   ],
   "source": [
    "plot_result(cfg.cityCoordinat)"
   ]
  },
  {
   "cell_type": "code",
   "execution_count": 5,
   "metadata": {},
   "outputs": [
    {
     "data": {
      "text/plain": [
       "5"
      ]
     },
     "execution_count": 5,
     "metadata": {},
     "output_type": "execute_result"
    }
   ],
   "source": [
    "len(cfg.cityCoordinat)"
   ]
  },
  {
   "cell_type": "code",
   "execution_count": 6,
   "metadata": {},
   "outputs": [
    {
     "data": {
      "text/plain": [
       "[[0.0, 3.0, 4.0, 2.0, 7.0],\n",
       " [3.0, 0.0, 4.0, 6.0, 3.0],\n",
       " [4.0, 4.0, 0.0, 5.0, 8.0],\n",
       " [2.0, 6.0, 5.0, 0.0, 6.0],\n",
       " [7.0, 3.0, 8.0, 6.0, 0.0]]"
      ]
     },
     "execution_count": 6,
     "metadata": {},
     "output_type": "execute_result"
    }
   ],
   "source": [
    "cfg.weightData"
   ]
  },
  {
   "cell_type": "code",
   "execution_count": 7,
   "metadata": {},
   "outputs": [],
   "source": [
    "#\n",
    "# Individual.py\n",
    "#\n",
    "#\n",
    "\n",
    "import math\n",
    "import collections\n",
    "\n",
    "#A simple 1-D Individual class\n",
    "class Individual:\n",
    "    \"\"\"\n",
    "    Individual\n",
    "    \"\"\"\n",
    "    minSigma=1e-100\n",
    "    maxSigma=1\n",
    "    learningRate=None\n",
    "    uniprng=None\n",
    "    normprng=None\n",
    "    fitFunc=None\n",
    "    cityCoordinat=None\n",
    "    startCity=None\n",
    "    numberofCity=None\n",
    "    weightdata=None\n",
    "    populationSize=None\n",
    "    var=None\n",
    "    \n",
    "        \n",
    "\n",
    "    def __init__(self):\n",
    "        self.x=CityPath()\n",
    "        self.fit=self.__class__.fitFunc(self.x)\n",
    "        self.sigma=self.uniprng.uniform(1/self.populationSize,1/self.numberofCity) #use \"normalized\" sigma\n",
    "        \n",
    "    def crossover(self, other):\n",
    "        \n",
    "        for a in range(0,len(self.x)):\n",
    "            alpha=self.uniprng.uniform(0,1)\n",
    "            probability=0.5\n",
    "            \n",
    "            if(alpha<probability):\n",
    "                self.x[a], other.x[a] = other.x[a], self.x[a]\n",
    "                dupli_x=self.list_duplicates(self.x)\n",
    "                dupli_other=self.list_duplicates(other.x)\n",
    "                \n",
    "                if (len(dupli_x)!=0 and len(dupli_other)!=0 ):\n",
    "                    self.x[dupli_x[0]], other.x[dupli_other[0]] = other.x[dupli_other[0]], self.x[dupli_x[0]]\n",
    "        '''This is for 1 Point crossover\n",
    "        #perform crossover \"in-place\"\n",
    "        alpha=self.uniprng.randint(0,self.latticeLength-1)\n",
    "        \n",
    "        #Swap the list based on alpha\n",
    "        self.x[alpha:], other.x[alpha:] = other.x[alpha:], self.x[alpha:]'''\n",
    "        \n",
    "        self.fit=None\n",
    "        other.fit=None\n",
    "        \n",
    "    def list_duplicates(self,seq):\n",
    "        seen = set()\n",
    "        seen_add = seen.add\n",
    "        return [idx for idx,item in enumerate(seq) if item in seen or seen_add(item)]\n",
    "\n",
    "    \n",
    "    def mutate(self):\n",
    "        self.sigma=self.sigma*math.exp(self.learningRate*self.normprng.normalvariate(0,1))\n",
    "        if self.sigma < 1/self.populationSize: \n",
    "            self.sigma=1/self.populationSize\n",
    "        if self.sigma > 1/self.numberofCity: \n",
    "            self.sigma=1/self.numberofCity\n",
    "\n",
    "        if self.uniprng.uniform(0,1)<self.sigma: #randomprobability of mutation\n",
    "            if (self.startCity==0):\n",
    "                mutationindex=self.uniprng.randint(0,self.numberofCity-1)\n",
    "                self.x[mutationindex]=self.uniprng.randint(0,self.numberofCity-1)\n",
    "\n",
    "            else:\n",
    "                mutationindex=self.uniprng.randint(1,self.numberofCity-1)   \n",
    "                self.x[mutationindex]=self.uniprng.randint(1,self.numberofCity-1)\n",
    "            differ=self.diff(self.x)\n",
    "\n",
    "            if len(differ)!=0:\n",
    "                samevalindex=self.list_duplicates_of(self.x.x, self.x[mutationindex])\n",
    "                samevalindex.remove(mutationindex)\n",
    "                self.x[samevalindex[0]]=differ[0]\n",
    "           \n",
    "        self.fit=None\n",
    "        \n",
    "    def diff(self,second):\n",
    "        first =set(list(range(0, self.numberofCity)))\n",
    "        return [item for item in first if item not in second]    \n",
    "        \n",
    "    def list_duplicates_of(self,seq,item):\n",
    "        start_at = -1\n",
    "        locs = []\n",
    "        while True:\n",
    "            try:\n",
    "                loc = seq.index(item,start_at+1)\n",
    "            except ValueError:\n",
    "                break\n",
    "            else:\n",
    "                locs.append(loc)\n",
    "                start_at = loc\n",
    "        return locs\n",
    "\n",
    "    def evaluateFitness(self):\n",
    "        if self.fit == None: self.fit=self.__class__.fitFunc(self.x)\n",
    "        \n",
    "        \n",
    "    def __repr__(self):\n",
    "         return str(self.x)+'\\t'+str(self.fit)+'\\t'+str(self.sigma)\n",
    "\n",
    "    \n",
    "class CityPath(Individual):\n",
    "    def __init__(self):\n",
    "        if (self.startCity==0):\n",
    "            self.x=self.uniprng.sample(range(self.numberofCity), self.numberofCity)\n",
    "            \n",
    "        else:\n",
    "            x=self.uniprng.sample(range(self.startCity,self.numberofCity), self.numberofCity-self.startCity)\n",
    "            y=self.uniprng.sample(range(0,self.startCity-1),self.startCity-1)\n",
    "            z=[self.startCity-1]\n",
    "            z.append(y)\n",
    "            z.append(x)\n",
    "            flatlist=self.flatten(z)\n",
    "            copy = flatlist[1:]\n",
    "            self.uniprng.shuffle(copy)\n",
    "            flatlist[1:] = copy # overwrite the original\n",
    "            self.x=flatlist\n",
    "    \n",
    "    def flatten(self,x):\n",
    "        if isinstance(x, collections.Iterable):\n",
    "            return [a for i in x for a in self.flatten(i)]\n",
    "        else:\n",
    "            return [x]\n",
    "            \n",
    "\n",
    "    def interactionCity(self):\n",
    "        tempintercity=[]\n",
    "        for a in range (0,len(self.x)):\n",
    "\n",
    "            if(a==len(self.x)-1):\n",
    "                tempintercity.append(self.weightdata[self.x[a]][self.x[0]])\n",
    "            else:\n",
    "                tempintercity.append(self.weightdata[self.x[a]][self.x[a+1]])\n",
    "        return sum(tempintercity)\n",
    "\n",
    "              \n",
    "    def __repr__(self):\n",
    "        return str(self.x)\n",
    "    \n",
    "    def __getitem__(self, key):\n",
    "        return self.x[key]\n",
    "    \n",
    "    def __len__(self):\n",
    "        return len(self.x)\n",
    "    \n",
    "    def __setitem__(self, key, value):\n",
    "        self.x[key] = value\n",
    "\n",
    "    \n"
   ]
  },
  {
   "cell_type": "code",
   "execution_count": 8,
   "metadata": {},
   "outputs": [],
   "source": [
    "#\n",
    "# Population.py\n",
    "#\n",
    "#\n",
    "\n",
    "import copy\n",
    "import math\n",
    "from operator import attrgetter\n",
    "\n",
    "\n",
    "class Population:\n",
    "    \"\"\"\n",
    "    Population\n",
    "    \"\"\"\n",
    "    uniprng=None\n",
    "    crossoverFraction=None\n",
    "    \n",
    "    def __init__(self, populationSize):\n",
    "        \"\"\"\n",
    "        Population constructor\n",
    "        \"\"\"\n",
    "        self.population=[]\n",
    "        for i in range(populationSize):\n",
    "            self.population.append(Individual())                                                                                                                                        \n",
    "\n",
    "    def __len__(self):\n",
    "        return len(self.population)\n",
    "    \n",
    "    def __getitem__(self,key):\n",
    "        return self.population[key]\n",
    "    \n",
    "    def __setitem__(self,key,newValue):\n",
    "        self.population[key]=newValue\n",
    "        \n",
    "    def copy(self):\n",
    "        return copy.deepcopy(self)\n",
    "            \n",
    "    def evaluateFitness(self):\n",
    "        for individual in self.population: individual.evaluateFitness()\n",
    "            \n",
    "    def mutate(self):     \n",
    "        for individual in self.population:\n",
    "            individual.mutate()\n",
    "            \n",
    "    def crossover(self):\n",
    "        if (self.startCity==0):\n",
    "            indexList1=list(range(len(self)))\n",
    "            indexList2=list(range(len(self)))\n",
    "        else:\n",
    "            indexList1=list(range(1,len(self)))\n",
    "            indexList2=list(range(1,len(self)))\n",
    "            \n",
    "        self.uniprng.shuffle(indexList1)\n",
    "        self.uniprng.shuffle(indexList2)\n",
    "\n",
    "        if self.crossoverFraction == 1.0:             \n",
    "            for index1,index2 in zip(indexList1,indexList2):\n",
    "                self[index1].crossover(self[index2])\n",
    "        else:\n",
    "            for index1,index2 in zip(indexList1,indexList2):\n",
    "                rn=self.uniprng.random()\n",
    "                if rn < self.crossoverFraction:\n",
    "                    self[index1].crossover(self[index2])        \n",
    "\n",
    "            \n",
    "    def conductTournament(self):\n",
    "        # binary tournament\n",
    "        indexList1=list(range(len(self)))\n",
    "        indexList2=list(range(len(self)))\n",
    "        \n",
    "        self.uniprng.shuffle(indexList1)\n",
    "        self.uniprng.shuffle(indexList2)\n",
    "        \n",
    "        # do not allow self competition\n",
    "        for i in range(len(self)):\n",
    "            if indexList1[i] == indexList2[i]:\n",
    "                temp=indexList2[i]\n",
    "                if i == 0:\n",
    "                    indexList2[i]=indexList2[-1]\n",
    "                    indexList2[-1]=temp\n",
    "                else:\n",
    "                    indexList2[i]=indexList2[i-1]\n",
    "                    indexList2[i-1]=temp\n",
    "        \n",
    "        #compete\n",
    "        newPop=[]        \n",
    "        for index1,index2 in zip(indexList1,indexList2):\n",
    "            if self[index1].fit < self[index2].fit:\n",
    "                newPop.append(copy.deepcopy(self[index1]))\n",
    "            elif self[index1].fit > self[index2].fit:\n",
    "                newPop.append(copy.deepcopy(self[index2]))\n",
    "            else:\n",
    "                rn=self.uniprng.random()\n",
    "                if rn > 0.5:\n",
    "                    newPop.append(copy.deepcopy(self[index1]))\n",
    "                else:\n",
    "                    newPop.append(copy.deepcopy(self[index2]))\n",
    "        \n",
    "        # overwrite old pop with newPop    \n",
    "        self.population=newPop        \n",
    "\n",
    "\n",
    "    def combinePops(self,otherPop):\n",
    "        self.population.extend(otherPop.population)\n",
    "\n",
    "    def truncateSelect(self,newPopSize):\n",
    "        #sort by fitness\n",
    "        self.population.sort(key=attrgetter('fit'),reverse=False)\n",
    "        \n",
    "        #then truncate the bottom\n",
    "        self.population=self.population[:newPopSize]  \n",
    "                \n",
    "    def __str__(self):\n",
    "        s=''\n",
    "        for ind in self:\n",
    "            s+=str(ind) + '\\n'\n",
    "        return s\n",
    "\n",
    "\n"
   ]
  },
  {
   "cell_type": "code",
   "execution_count": 9,
   "metadata": {},
   "outputs": [],
   "source": [
    "from random import Random\n",
    "\n",
    "#start random number generators\n",
    "uniprng=Random()\n",
    "uniprng.seed(cfg.randomSeed)\n",
    "normprng=Random()\n",
    "normprng.seed(cfg.randomSeed+101)\n",
    "\n",
    "#set static params on classes\n",
    "# (probably not the most elegant approach, but let's keep things simple...)\n",
    "\n",
    "Individual.fitFunc=fitnessFunc\n",
    "Individual.uniprng=uniprng\n",
    "Individual.normprng=normprng\n",
    "Individual.populationSize=cfg.populationSize\n",
    "Individual.cityCoordinat=cfg.cityCoordinat\n",
    "Individual.startCity=cfg.startCity\n",
    "Individual.numberofCity=len(cfg.weightData)\n",
    "Individual.weightdata=cfg.weightData\n",
    "Individual.learningRate=cfg.learningRate\n",
    "Population.uniprng=uniprng\n",
    "Population.crossoverFraction=cfg.crossoverFraction\n",
    "Population.startCity=cfg.startCity\n",
    "\n",
    "\n",
    "#create initial Population (random initialization)\n",
    "population=Population(cfg.populationSize)\n",
    "\n",
    "\n"
   ]
  },
  {
   "cell_type": "code",
   "execution_count": 10,
   "metadata": {},
   "outputs": [
    {
     "data": {
      "text/plain": [
       "1"
      ]
     },
     "execution_count": 10,
     "metadata": {},
     "output_type": "execute_result"
    }
   ],
   "source": [
    "cfg.startCity"
   ]
  },
  {
   "cell_type": "code",
   "execution_count": 11,
   "metadata": {},
   "outputs": [],
   "source": [
    "populationmax=Population(cfg.populationSize)\n"
   ]
  },
  {
   "cell_type": "code",
   "execution_count": 12,
   "metadata": {},
   "outputs": [
    {
     "name": "stdout",
     "output_type": "stream",
     "text": [
      "Generation: 0\n",
      "[0, 1, 3, 4, 2]\t27.0\t0.12301829218412047\n",
      "[0, 3, 4, 2, 1]\t23.0\t0.04430584593610018\n",
      "[0, 4, 2, 1, 3]\t27.0\t0.14904481611973824\n",
      "[0, 4, 1, 3, 2]\t25.0\t0.09434147895606941\n",
      "[0, 2, 1, 4, 3]\t19.0\t0.1718621626439726\n",
      "[0, 2, 1, 3, 4]\t27.0\t0.1958103504284735\n",
      "[0, 1, 3, 4, 2]\t27.0\t0.1516928714341754\n",
      "[0, 4, 2, 3, 1]\t29.0\t0.06600548681972188\n",
      "[0, 2, 4, 1, 3]\t23.0\t0.1501854874661566\n",
      "[0, 1, 3, 2, 4]\t29.0\t0.18875570937288425\n",
      "[0, 2, 4, 3, 1]\t27.0\t0.09538981192085526\n",
      "[0, 2, 1, 3, 4]\t27.0\t0.17253549610753544\n",
      "[0, 3, 4, 1, 2]\t19.0\t0.17828098265843392\n",
      "[0, 1, 2, 3, 4]\t25.0\t0.07396331521908327\n",
      "[0, 3, 2, 4, 1]\t21.0\t0.19015687693832894\n",
      "[0, 4, 3, 2, 1]\t25.0\t0.07746721897753504\n",
      "[0, 3, 2, 4, 1]\t21.0\t0.12595141671168694\n",
      "[0, 4, 3, 1, 2]\t27.0\t0.1802937674560904\n",
      "[0, 1, 4, 2, 3]\t21.0\t0.09661800974125778\n",
      "[0, 4, 3, 2, 1]\t25.0\t0.15587326375294874\n",
      "[0, 1, 2, 3, 4]\t25.0\t0.11809685957045715\n",
      "[0, 2, 3, 4, 1]\t21.0\t0.15384037676118775\n",
      "[0, 3, 1, 2, 4]\t27.0\t0.1869291287957078\n",
      "[0, 3, 2, 4, 1]\t21.0\t0.13723273145827025\n",
      "[0, 2, 3, 4, 1]\t21.0\t0.0653047597060568\n",
      "Min fitness 19.0\n",
      "Sigma 0.1718621626439726\n",
      "Avg fitness 24.36\n",
      "\n"
     ]
    }
   ],
   "source": [
    "printStats(populationmax,0)"
   ]
  },
  {
   "cell_type": "code",
   "execution_count": 13,
   "metadata": {},
   "outputs": [],
   "source": [
    "offspringmax=populationmax.copy()"
   ]
  },
  {
   "cell_type": "code",
   "execution_count": 14,
   "metadata": {},
   "outputs": [
    {
     "data": {
      "text/plain": [
       "[[0, 1, 3, 4, 2]\t27.0\t0.12301829218412047,\n",
       " [0, 3, 4, 2, 1]\t23.0\t0.04430584593610018,\n",
       " [0, 4, 2, 1, 3]\t27.0\t0.14904481611973824,\n",
       " [0, 4, 1, 3, 2]\t25.0\t0.09434147895606941,\n",
       " [0, 2, 1, 4, 3]\t19.0\t0.1718621626439726,\n",
       " [0, 2, 1, 3, 4]\t27.0\t0.1958103504284735,\n",
       " [0, 1, 3, 4, 2]\t27.0\t0.1516928714341754,\n",
       " [0, 4, 2, 3, 1]\t29.0\t0.06600548681972188,\n",
       " [0, 2, 4, 1, 3]\t23.0\t0.1501854874661566,\n",
       " [0, 1, 3, 2, 4]\t29.0\t0.18875570937288425,\n",
       " [0, 2, 4, 3, 1]\t27.0\t0.09538981192085526,\n",
       " [0, 2, 1, 3, 4]\t27.0\t0.17253549610753544,\n",
       " [0, 3, 4, 1, 2]\t19.0\t0.17828098265843392,\n",
       " [0, 1, 2, 3, 4]\t25.0\t0.07396331521908327,\n",
       " [0, 3, 2, 4, 1]\t21.0\t0.19015687693832894,\n",
       " [0, 4, 3, 2, 1]\t25.0\t0.07746721897753504,\n",
       " [0, 3, 2, 4, 1]\t21.0\t0.12595141671168694,\n",
       " [0, 4, 3, 1, 2]\t27.0\t0.1802937674560904,\n",
       " [0, 1, 4, 2, 3]\t21.0\t0.09661800974125778,\n",
       " [0, 4, 3, 2, 1]\t25.0\t0.15587326375294874,\n",
       " [0, 1, 2, 3, 4]\t25.0\t0.11809685957045715,\n",
       " [0, 2, 3, 4, 1]\t21.0\t0.15384037676118775,\n",
       " [0, 3, 1, 2, 4]\t27.0\t0.1869291287957078,\n",
       " [0, 3, 2, 4, 1]\t21.0\t0.13723273145827025,\n",
       " [0, 2, 3, 4, 1]\t21.0\t0.0653047597060568]"
      ]
     },
     "execution_count": 14,
     "metadata": {},
     "output_type": "execute_result"
    }
   ],
   "source": [
    "offspringmax.population"
   ]
  },
  {
   "cell_type": "code",
   "execution_count": 15,
   "metadata": {},
   "outputs": [],
   "source": [
    "offspringmax.conductTournament()"
   ]
  },
  {
   "cell_type": "code",
   "execution_count": 16,
   "metadata": {},
   "outputs": [
    {
     "data": {
      "text/plain": [
       "[[0, 1, 4, 2, 3]\t21.0\t0.09661800974125778,\n",
       " [0, 1, 3, 4, 2]\t27.0\t0.12301829218412047,\n",
       " [0, 2, 3, 4, 1]\t21.0\t0.0653047597060568,\n",
       " [0, 2, 1, 3, 4]\t27.0\t0.1958103504284735,\n",
       " [0, 3, 2, 4, 1]\t21.0\t0.19015687693832894,\n",
       " [0, 4, 3, 2, 1]\t25.0\t0.07746721897753504,\n",
       " [0, 3, 4, 2, 1]\t23.0\t0.04430584593610018,\n",
       " [0, 1, 4, 2, 3]\t21.0\t0.09661800974125778,\n",
       " [0, 3, 4, 1, 2]\t19.0\t0.17828098265843392,\n",
       " [0, 4, 2, 1, 3]\t27.0\t0.14904481611973824,\n",
       " [0, 4, 3, 1, 2]\t27.0\t0.1802937674560904,\n",
       " [0, 2, 3, 4, 1]\t21.0\t0.15384037676118775,\n",
       " [0, 3, 4, 1, 2]\t19.0\t0.17828098265843392,\n",
       " [0, 3, 1, 2, 4]\t27.0\t0.1869291287957078,\n",
       " [0, 2, 1, 4, 3]\t19.0\t0.1718621626439726,\n",
       " [0, 3, 2, 4, 1]\t21.0\t0.12595141671168694,\n",
       " [0, 3, 2, 4, 1]\t21.0\t0.13723273145827025,\n",
       " [0, 3, 2, 4, 1]\t21.0\t0.12595141671168694,\n",
       " [0, 2, 4, 1, 3]\t23.0\t0.1501854874661566,\n",
       " [0, 3, 2, 4, 1]\t21.0\t0.19015687693832894,\n",
       " [0, 2, 3, 4, 1]\t21.0\t0.0653047597060568,\n",
       " [0, 4, 1, 3, 2]\t25.0\t0.09434147895606941,\n",
       " [0, 2, 1, 4, 3]\t19.0\t0.1718621626439726,\n",
       " [0, 2, 4, 3, 1]\t27.0\t0.09538981192085526,\n",
       " [0, 2, 3, 4, 1]\t21.0\t0.15384037676118775]"
      ]
     },
     "execution_count": 16,
     "metadata": {},
     "output_type": "execute_result"
    }
   ],
   "source": [
    "offspringmax.population"
   ]
  },
  {
   "cell_type": "code",
   "execution_count": 17,
   "metadata": {},
   "outputs": [],
   "source": [
    "offspringmax.crossover()"
   ]
  },
  {
   "cell_type": "code",
   "execution_count": 18,
   "metadata": {},
   "outputs": [
    {
     "data": {
      "text/plain": [
       "[[0, 1, 4, 2, 3]\t21.0\t0.09661800974125778,\n",
       " [0, 1, 3, 4, 2]\t27.0\t0.12301829218412047,\n",
       " [0, 4, 3, 1, 2]\tNone\t0.0653047597060568,\n",
       " [0, 3, 1, 4, 2]\tNone\t0.1958103504284735,\n",
       " [0, 3, 2, 4, 1]\tNone\t0.19015687693832894,\n",
       " [0, 4, 3, 1, 2]\tNone\t0.07746721897753504,\n",
       " [0, 2, 4, 1, 3]\tNone\t0.04430584593610018,\n",
       " [0, 1, 4, 2, 3]\t21.0\t0.09661800974125778,\n",
       " [0, 2, 3, 1, 4]\tNone\t0.17828098265843392,\n",
       " [0, 4, 2, 1, 3]\t27.0\t0.14904481611973824,\n",
       " [0, 3, 4, 1, 2]\tNone\t0.1802937674560904,\n",
       " [0, 2, 3, 4, 1]\tNone\t0.15384037676118775,\n",
       " [0, 3, 4, 2, 1]\tNone\t0.17828098265843392,\n",
       " [0, 3, 1, 2, 4]\t27.0\t0.1869291287957078,\n",
       " [0, 2, 1, 4, 3]\t19.0\t0.1718621626439726,\n",
       " [0, 3, 2, 4, 1]\tNone\t0.12595141671168694,\n",
       " [0, 3, 2, 4, 1]\t21.0\t0.13723273145827025,\n",
       " [0, 3, 2, 4, 1]\tNone\t0.12595141671168694,\n",
       " [0, 3, 4, 1, 2]\tNone\t0.1501854874661566,\n",
       " [0, 2, 3, 4, 1]\tNone\t0.19015687693832894,\n",
       " [0, 2, 3, 4, 1]\t21.0\t0.0653047597060568,\n",
       " [0, 4, 1, 3, 2]\t25.0\t0.09434147895606941,\n",
       " [0, 2, 1, 4, 3]\t19.0\t0.1718621626439726,\n",
       " [0, 2, 4, 3, 1]\t27.0\t0.09538981192085526,\n",
       " [0, 2, 3, 4, 1]\t21.0\t0.15384037676118775]"
      ]
     },
     "execution_count": 18,
     "metadata": {},
     "output_type": "execute_result"
    }
   ],
   "source": [
    "offspringmax.population"
   ]
  },
  {
   "cell_type": "code",
   "execution_count": 19,
   "metadata": {},
   "outputs": [],
   "source": [
    "offspringmax.mutate()\n"
   ]
  },
  {
   "cell_type": "code",
   "execution_count": 20,
   "metadata": {},
   "outputs": [
    {
     "data": {
      "text/plain": [
       "[[0, 1, 4, 2, 3]\tNone\t0.2,\n",
       " [0, 1, 3, 4, 2]\tNone\t0.04387786394461249,\n",
       " [0, 4, 3, 1, 2]\tNone\t0.12426994135214577,\n",
       " [0, 3, 1, 4, 2]\tNone\t0.16056339977233203,\n",
       " [0, 3, 2, 4, 1]\tNone\t0.04,\n",
       " [0, 4, 3, 1, 2]\tNone\t0.04,\n",
       " [0, 2, 4, 1, 3]\tNone\t0.04,\n",
       " [0, 4, 1, 2, 3]\tNone\t0.04,\n",
       " [0, 2, 3, 1, 4]\tNone\t0.2,\n",
       " [0, 4, 1, 2, 3]\tNone\t0.04,\n",
       " [0, 3, 4, 1, 2]\tNone\t0.2,\n",
       " [0, 2, 3, 4, 1]\tNone\t0.04,\n",
       " [0, 3, 4, 2, 1]\tNone\t0.2,\n",
       " [0, 3, 1, 2, 4]\tNone\t0.04,\n",
       " [0, 2, 1, 4, 3]\tNone\t0.2,\n",
       " [0, 3, 2, 4, 1]\tNone\t0.15226814830913163,\n",
       " [0, 3, 2, 4, 1]\tNone\t0.2,\n",
       " [0, 3, 2, 4, 1]\tNone\t0.04,\n",
       " [0, 3, 4, 1, 2]\tNone\t0.04,\n",
       " [0, 2, 3, 4, 1]\tNone\t0.2,\n",
       " [0, 2, 4, 3, 1]\tNone\t0.13886990094961432,\n",
       " [0, 4, 1, 3, 2]\tNone\t0.2,\n",
       " [0, 2, 1, 4, 3]\tNone\t0.09252288618301584,\n",
       " [0, 2, 4, 3, 1]\tNone\t0.2,\n",
       " [0, 2, 3, 4, 1]\tNone\t0.2]"
      ]
     },
     "execution_count": 20,
     "metadata": {},
     "output_type": "execute_result"
    }
   ],
   "source": [
    "offspringmax.population"
   ]
  },
  {
   "cell_type": "code",
   "execution_count": 21,
   "metadata": {},
   "outputs": [],
   "source": [
    "offspringmax.evaluateFitness()        \n"
   ]
  },
  {
   "cell_type": "code",
   "execution_count": 22,
   "metadata": {},
   "outputs": [
    {
     "data": {
      "text/plain": [
       "[[0, 1, 4, 2, 3]\t21.0\t0.2,\n",
       " [0, 1, 3, 4, 2]\t27.0\t0.04387786394461249,\n",
       " [0, 4, 3, 1, 2]\t27.0\t0.12426994135214577,\n",
       " [0, 3, 1, 4, 2]\t23.0\t0.16056339977233203,\n",
       " [0, 3, 2, 4, 1]\t21.0\t0.04,\n",
       " [0, 4, 3, 1, 2]\t27.0\t0.04,\n",
       " [0, 2, 4, 1, 3]\t23.0\t0.04,\n",
       " [0, 4, 1, 2, 3]\t21.0\t0.04,\n",
       " [0, 2, 3, 1, 4]\t25.0\t0.2,\n",
       " [0, 4, 1, 2, 3]\t21.0\t0.04,\n",
       " [0, 3, 4, 1, 2]\t19.0\t0.2,\n",
       " [0, 2, 3, 4, 1]\t21.0\t0.04,\n",
       " [0, 3, 4, 2, 1]\t23.0\t0.2,\n",
       " [0, 3, 1, 2, 4]\t27.0\t0.04,\n",
       " [0, 2, 1, 4, 3]\t19.0\t0.2,\n",
       " [0, 3, 2, 4, 1]\t21.0\t0.15226814830913163,\n",
       " [0, 3, 2, 4, 1]\t21.0\t0.2,\n",
       " [0, 3, 2, 4, 1]\t21.0\t0.04,\n",
       " [0, 3, 4, 1, 2]\t19.0\t0.04,\n",
       " [0, 2, 3, 4, 1]\t21.0\t0.2,\n",
       " [0, 2, 4, 3, 1]\t27.0\t0.13886990094961432,\n",
       " [0, 4, 1, 3, 2]\t25.0\t0.2,\n",
       " [0, 2, 1, 4, 3]\t19.0\t0.09252288618301584,\n",
       " [0, 2, 4, 3, 1]\t27.0\t0.2,\n",
       " [0, 2, 3, 4, 1]\t21.0\t0.2]"
      ]
     },
     "execution_count": 22,
     "metadata": {},
     "output_type": "execute_result"
    }
   ],
   "source": [
    "offspringmax.population"
   ]
  },
  {
   "cell_type": "code",
   "execution_count": 23,
   "metadata": {},
   "outputs": [],
   "source": [
    "populationmax.combinePops(offspringmax)\n"
   ]
  },
  {
   "cell_type": "code",
   "execution_count": 24,
   "metadata": {},
   "outputs": [
    {
     "data": {
      "text/plain": [
       "[[0, 1, 3, 4, 2]\t27.0\t0.12301829218412047,\n",
       " [0, 3, 4, 2, 1]\t23.0\t0.04430584593610018,\n",
       " [0, 4, 2, 1, 3]\t27.0\t0.14904481611973824,\n",
       " [0, 4, 1, 3, 2]\t25.0\t0.09434147895606941,\n",
       " [0, 2, 1, 4, 3]\t19.0\t0.1718621626439726,\n",
       " [0, 2, 1, 3, 4]\t27.0\t0.1958103504284735,\n",
       " [0, 1, 3, 4, 2]\t27.0\t0.1516928714341754,\n",
       " [0, 4, 2, 3, 1]\t29.0\t0.06600548681972188,\n",
       " [0, 2, 4, 1, 3]\t23.0\t0.1501854874661566,\n",
       " [0, 1, 3, 2, 4]\t29.0\t0.18875570937288425,\n",
       " [0, 2, 4, 3, 1]\t27.0\t0.09538981192085526,\n",
       " [0, 2, 1, 3, 4]\t27.0\t0.17253549610753544,\n",
       " [0, 3, 4, 1, 2]\t19.0\t0.17828098265843392,\n",
       " [0, 1, 2, 3, 4]\t25.0\t0.07396331521908327,\n",
       " [0, 3, 2, 4, 1]\t21.0\t0.19015687693832894,\n",
       " [0, 4, 3, 2, 1]\t25.0\t0.07746721897753504,\n",
       " [0, 3, 2, 4, 1]\t21.0\t0.12595141671168694,\n",
       " [0, 4, 3, 1, 2]\t27.0\t0.1802937674560904,\n",
       " [0, 1, 4, 2, 3]\t21.0\t0.09661800974125778,\n",
       " [0, 4, 3, 2, 1]\t25.0\t0.15587326375294874,\n",
       " [0, 1, 2, 3, 4]\t25.0\t0.11809685957045715,\n",
       " [0, 2, 3, 4, 1]\t21.0\t0.15384037676118775,\n",
       " [0, 3, 1, 2, 4]\t27.0\t0.1869291287957078,\n",
       " [0, 3, 2, 4, 1]\t21.0\t0.13723273145827025,\n",
       " [0, 2, 3, 4, 1]\t21.0\t0.0653047597060568,\n",
       " [0, 1, 4, 2, 3]\t21.0\t0.2,\n",
       " [0, 1, 3, 4, 2]\t27.0\t0.04387786394461249,\n",
       " [0, 4, 3, 1, 2]\t27.0\t0.12426994135214577,\n",
       " [0, 3, 1, 4, 2]\t23.0\t0.16056339977233203,\n",
       " [0, 3, 2, 4, 1]\t21.0\t0.04,\n",
       " [0, 4, 3, 1, 2]\t27.0\t0.04,\n",
       " [0, 2, 4, 1, 3]\t23.0\t0.04,\n",
       " [0, 4, 1, 2, 3]\t21.0\t0.04,\n",
       " [0, 2, 3, 1, 4]\t25.0\t0.2,\n",
       " [0, 4, 1, 2, 3]\t21.0\t0.04,\n",
       " [0, 3, 4, 1, 2]\t19.0\t0.2,\n",
       " [0, 2, 3, 4, 1]\t21.0\t0.04,\n",
       " [0, 3, 4, 2, 1]\t23.0\t0.2,\n",
       " [0, 3, 1, 2, 4]\t27.0\t0.04,\n",
       " [0, 2, 1, 4, 3]\t19.0\t0.2,\n",
       " [0, 3, 2, 4, 1]\t21.0\t0.15226814830913163,\n",
       " [0, 3, 2, 4, 1]\t21.0\t0.2,\n",
       " [0, 3, 2, 4, 1]\t21.0\t0.04,\n",
       " [0, 3, 4, 1, 2]\t19.0\t0.04,\n",
       " [0, 2, 3, 4, 1]\t21.0\t0.2,\n",
       " [0, 2, 4, 3, 1]\t27.0\t0.13886990094961432,\n",
       " [0, 4, 1, 3, 2]\t25.0\t0.2,\n",
       " [0, 2, 1, 4, 3]\t19.0\t0.09252288618301584,\n",
       " [0, 2, 4, 3, 1]\t27.0\t0.2,\n",
       " [0, 2, 3, 4, 1]\t21.0\t0.2]"
      ]
     },
     "execution_count": 24,
     "metadata": {},
     "output_type": "execute_result"
    }
   ],
   "source": [
    "populationmax.population"
   ]
  },
  {
   "cell_type": "code",
   "execution_count": 25,
   "metadata": {},
   "outputs": [],
   "source": [
    "populationmax.truncateSelect(20)\n"
   ]
  },
  {
   "cell_type": "code",
   "execution_count": 26,
   "metadata": {},
   "outputs": [
    {
     "data": {
      "text/plain": [
       "[[0, 2, 1, 4, 3]\t19.0\t0.1718621626439726,\n",
       " [0, 3, 4, 1, 2]\t19.0\t0.17828098265843392,\n",
       " [0, 3, 4, 1, 2]\t19.0\t0.2,\n",
       " [0, 2, 1, 4, 3]\t19.0\t0.2,\n",
       " [0, 3, 4, 1, 2]\t19.0\t0.04,\n",
       " [0, 2, 1, 4, 3]\t19.0\t0.09252288618301584,\n",
       " [0, 3, 2, 4, 1]\t21.0\t0.19015687693832894,\n",
       " [0, 3, 2, 4, 1]\t21.0\t0.12595141671168694,\n",
       " [0, 1, 4, 2, 3]\t21.0\t0.09661800974125778,\n",
       " [0, 2, 3, 4, 1]\t21.0\t0.15384037676118775,\n",
       " [0, 3, 2, 4, 1]\t21.0\t0.13723273145827025,\n",
       " [0, 2, 3, 4, 1]\t21.0\t0.0653047597060568,\n",
       " [0, 1, 4, 2, 3]\t21.0\t0.2,\n",
       " [0, 3, 2, 4, 1]\t21.0\t0.04,\n",
       " [0, 4, 1, 2, 3]\t21.0\t0.04,\n",
       " [0, 4, 1, 2, 3]\t21.0\t0.04,\n",
       " [0, 2, 3, 4, 1]\t21.0\t0.04,\n",
       " [0, 3, 2, 4, 1]\t21.0\t0.15226814830913163,\n",
       " [0, 3, 2, 4, 1]\t21.0\t0.2,\n",
       " [0, 3, 2, 4, 1]\t21.0\t0.04]"
      ]
     },
     "execution_count": 26,
     "metadata": {},
     "output_type": "execute_result"
    }
   ],
   "source": [
    "populationmax.population"
   ]
  },
  {
   "cell_type": "code",
   "execution_count": 28,
   "metadata": {},
   "outputs": [
    {
     "name": "stdout",
     "output_type": "stream",
     "text": [
      "Generation: 1\n",
      "[0, 2, 1, 4, 3]\t19.0\t0.1718621626439726\n",
      "[0, 3, 4, 1, 2]\t19.0\t0.17828098265843392\n",
      "[0, 3, 4, 1, 2]\t19.0\t0.2\n",
      "[0, 2, 1, 4, 3]\t19.0\t0.2\n",
      "[0, 3, 4, 1, 2]\t19.0\t0.04\n",
      "[0, 2, 1, 4, 3]\t19.0\t0.09252288618301584\n",
      "[0, 3, 2, 4, 1]\t21.0\t0.19015687693832894\n",
      "[0, 3, 2, 4, 1]\t21.0\t0.12595141671168694\n",
      "[0, 1, 4, 2, 3]\t21.0\t0.09661800974125778\n",
      "[0, 2, 3, 4, 1]\t21.0\t0.15384037676118775\n",
      "[0, 3, 2, 4, 1]\t21.0\t0.13723273145827025\n",
      "[0, 2, 3, 4, 1]\t21.0\t0.0653047597060568\n",
      "[0, 1, 4, 2, 3]\t21.0\t0.2\n",
      "[0, 3, 2, 4, 1]\t21.0\t0.04\n",
      "[0, 4, 1, 2, 3]\t21.0\t0.04\n",
      "[0, 4, 1, 2, 3]\t21.0\t0.04\n",
      "[0, 2, 3, 4, 1]\t21.0\t0.04\n",
      "[0, 3, 2, 4, 1]\t21.0\t0.15226814830913163\n",
      "[0, 3, 2, 4, 1]\t21.0\t0.2\n",
      "[0, 3, 2, 4, 1]\t21.0\t0.04\n",
      "Min fitness 19.0\n",
      "Sigma 0.1718621626439726\n",
      "Avg fitness 20.4\n",
      "\n"
     ]
    }
   ],
   "source": [
    "printStats(populationmax,1)"
   ]
  },
  {
   "cell_type": "code",
   "execution_count": 69,
   "metadata": {},
   "outputs": [],
   "source": [
    "def fitnessFuncPlot(fitdata):\n",
    "    plt.plot(*zip(*fitdata), 'o')\n",
    "\n"
   ]
  },
  {
   "cell_type": "code",
   "execution_count": 73,
   "metadata": {},
   "outputs": [
    {
     "data": {
      "image/png": "[encoded data removed]",
      "text/plain": [
       "<Figure size 432x288 with 1 Axes>"
      ]
     },
     "metadata": {
      "needs_background": "light"
     },
     "output_type": "display_data"
    }
   ],
   "source": [
    "fitnessFuncPlot(cfg.cityCoordinat)"
   ]
  },
  {
   "cell_type": "code",
   "execution_count": 109,
   "metadata": {},
   "outputs": [
    {
     "data": {
      "image/png": "[encoded data removed]",
      "text/plain": [
       "<Figure size 432x288 with 2 Axes>"
      ]
     },
     "metadata": {
      "needs_background": "light"
     },
     "output_type": "display_data"
    }
   ],
   "source": [
    "import matplotlib.pyplot as plt\n",
    "\n",
    "positions=np.array(cfg.cityCoordinat)\n",
    "N=5\n",
    "x_sol=[[1,0,0,0,0],\n",
    "       [0,0,1,0,0],\n",
    "       [0,1,0,0,0],\n",
    "       [0,0,0,0,1],\n",
    "       [0,0,0,1,0]]\n",
    "\n",
    "\n",
    "fig, ax = plt.subplots(2, sharex=True, sharey=True)         # Prepare 2 plots\n",
    "ax[0].set_title(\"Raw nodes\")\n",
    "ax[1].set_title(\"Optimized tour\")\n",
    "ax[0].scatter(positions[:, 0], positions[:, 1])             # plot A\n",
    "ax[1].scatter(positions[:, 0], positions[:, 1])             # plot B\n",
    "start_node = 0\n",
    "distance = 0.\n",
    "for i in range(N):\n",
    "    start_pos = positions[start_node]\n",
    "    next_node = np.argmax(x_sol[i]) # needed because of MIP-approach used for TSP\n",
    "    end_pos = positions[next_node]\n",
    "    ax[1].annotate(\"\",\n",
    "            xy=start_pos, xycoords='data',\n",
    "            xytext=end_pos, textcoords='data',\n",
    "            arrowprops=dict(arrowstyle=\"->\",\n",
    "                            connectionstyle=\"arc3\"))\n",
    "    start_node = next_node\n",
    "\n",
    "textstr = \"N nodes: %d\\nTotal length: %.3f\" % (N, distance)\n",
    "props = dict(boxstyle='round', facecolor='wheat', alpha=0.5)\n",
    "ax[1].text(0.05, 0.95, textstr, transform=ax[1].transAxes, fontsize=14, # Textbox\n",
    "        verticalalignment='top', bbox=props)\n",
    "\n",
    "plt.tight_layout()\n",
    "plt.show()"
   ]
  },
  {
   "cell_type": "code",
   "execution_count": 132,
   "metadata": {},
   "outputs": [],
   "source": [
    "cfg.cityCoordinat=[[-0.000000   ,-0.000000],\n",
    " [-3.818204  ,  0.000000],\n",
    " [ -1.149491  ,  3.347706],\n",
    " [1.107833  , -1.629565],\n",
    " [-5.317544 ,  -3.189793]]"
   ]
  },
  {
   "cell_type": "code",
   "execution_count": 72,
   "metadata": {},
   "outputs": [
    {
     "ename": "SyntaxError",
     "evalue": "can't use starred expression here (<ipython-input-72-b40132d9ab48>, line 4)",
     "output_type": "error",
     "traceback": [
      "\u001b[1;36m  File \u001b[1;32m\"<ipython-input-72-b40132d9ab48>\"\u001b[1;36m, line \u001b[1;32m4\u001b[0m\n\u001b[1;31mSyntaxError\u001b[0m\u001b[1;31m:\u001b[0m can't use starred expression here\n"
     ]
    }
   ],
   "source": [
    "*zip(*cfg.cityCoordinat)"
   ]
  },
  {
   "cell_type": "code",
   "execution_count": 116,
   "metadata": {},
   "outputs": [
    {
     "data": {
      "text/plain": [
       "[(1, 1), (8, 2), (4, 3), (9, 4), (2, 9), (1, 5), (8, 7)]"
      ]
     },
     "execution_count": 116,
     "metadata": {},
     "output_type": "execute_result"
    }
   ],
   "source": [
    "points"
   ]
  },
  {
   "cell_type": "code",
   "execution_count": 140,
   "metadata": {},
   "outputs": [
    {
     "data": {
      "image/png": "[encoded data removed]",
      "text/plain": [
       "<Figure size 432x288 with 1 Axes>"
      ]
     },
     "metadata": {
      "needs_background": "light"
     },
     "output_type": "display_data"
    }
   ],
   "source": [
    "import matplotlib.pyplot as plt\n",
    "\n",
    "def plotTSP(path, points, num_iters=1):\n",
    "\n",
    "    \"\"\"\n",
    "    path: List of lists with the different orders in which the nodes are visited\n",
    "    points: coordinates for the different nodes\n",
    "    num_iters: number of paths that are in the path list\n",
    "    \n",
    "    \"\"\"\n",
    "\n",
    "    # Unpack the primary TSP path and transform it into a list of ordered \n",
    "    # coordinates\n",
    "\n",
    "    x = []; y = []\n",
    "    for i in paths[0]:\n",
    "        x.append(points[i][0])\n",
    "        y.append(points[i][1])\n",
    "    \n",
    "    plt.plot(x, y, 'co')\n",
    "\n",
    "    a_scale = float(max(x))/float(5)\n",
    "    # Draw the older paths, if provided\n",
    "    if num_iters > 1:\n",
    "\n",
    "        for i in range(1, num_iters):\n",
    "\n",
    "            # Transform the old paths into a list of coordinates\n",
    "            xi = []; yi = [];\n",
    "            for j in paths[i]:\n",
    "                xi.append(points[j][0])\n",
    "                yi.append(points[j][1])\n",
    "\n",
    "    # Draw the primary path for the TSP problem\n",
    "    plt.arrow(x[-1], y[-1], (x[0] - x[-1]), (y[0] - y[-1]), head_width = a_scale, \n",
    "            color ='g', length_includes_head=True)\n",
    "    for i in range(0,len(x)-1):\n",
    "        plt.arrow(x[i], y[i], (x[i+1] - x[i]), (y[i+1] - y[i]), head_width = a_scale,\n",
    "                color = 'g', length_includes_head = True)\n",
    "\n",
    "    #Set axis too slitghtly larger than the set of x and y\n",
    "#     plt.xlim(0, max(x)*1.1)\n",
    "#     plt.ylim(0, max(y)*1.1)\n",
    "    plt.show()\n",
    "\n",
    "\n",
    "if __name__ == '__main__':\n",
    "    res = [tuple(i) for i in cfg.cityCoordinat]\n",
    "    # Local Search operation\n",
    "    path1 = [0, 2, 1, 4, 3]\n",
    "\n",
    "    # Pack the paths into a list\n",
    "    paths = [path1]\n",
    "    \n",
    "    # Run the function\n",
    "    plotTSP(paths, res, 1)"
   ]
  },
  {
   "cell_type": "code",
   "execution_count": 133,
   "metadata": {},
   "outputs": [],
   "source": [
    "res = [tuple(i) for i in cfg.cityCoordinat]"
   ]
  },
  {
   "cell_type": "code",
   "execution_count": 129,
   "metadata": {},
   "outputs": [
    {
     "data": {
      "text/plain": [
       "[(38.11859274, -4.55047759),\n",
       " (9.53610599, -7.76596505),\n",
       " (-42.82924297, 8.39593469),\n",
       " (18.69724157, 37.10607754),\n",
       " (-23.52269734, -33.18556959)]"
      ]
     },
     "execution_count": 129,
     "metadata": {},
     "output_type": "execute_result"
    }
   ],
   "source": [
    "res"
   ]
  },
  {
   "cell_type": "code",
   "execution_count": null,
   "metadata": {},
   "outputs": [],
   "source": []
  }
 ],
 "metadata": {
  "kernelspec": {
   "display_name": "Python 3",
   "language": "python",
   "name": "python3"
  },
  "language_info": {
   "codemirror_mode": {
    "name": "ipython",
    "version": 3
   },
   "file_extension": ".py",
   "mimetype": "text/x-python",
   "name": "python",
   "nbconvert_exporter": "python",
   "pygments_lexer": "ipython3",
   "version": "3.6.10"
  }
 },
 "nbformat": 4,
 "nbformat_minor": 4
}
